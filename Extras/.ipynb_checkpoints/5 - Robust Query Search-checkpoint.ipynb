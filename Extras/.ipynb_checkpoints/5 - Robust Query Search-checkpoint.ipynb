{
 "cells": [
  {
   "cell_type": "code",
   "execution_count": 3,
   "metadata": {},
   "outputs": [],
   "source": [
    "# https://www.youtube.com/watch?v=xdq6Gz33khQ&ab_channel=CodingEntrepreneurs\n",
    "# Coneccion a la API de Spotify\n",
    "client_id = '2fcf86918d5d434c90fe82b1294d12b0'\n",
    "client_secret = 'd7fa0a4a43fb4fff9cc3bce1940ff876'"
   ]
  },
  {
   "cell_type": "code",
   "execution_count": 14,
   "metadata": {},
   "outputs": [],
   "source": [
    "import base64\n",
    "import requests\n",
    "import datetime\n",
    "from urllib.parse import urlencode\n",
    "import pandas as pd\n",
    "\n",
    "class SpotifyAPI(object):\n",
    "    access_token = None\n",
    "    access_token_expires = datetime.datetime.now()\n",
    "    client_id = None\n",
    "    client_secret = None\n",
    "    access_token_did_expire = True\n",
    "    token_url = 'https://accounts.spotify.com/api/token'\n",
    "    \n",
    "    def __init__(self, client_id, client_secret, *args, **kwargs):\n",
    "        super().__init__(*args,**kwargs)\n",
    "        self.client_id = client_id\n",
    "        self.client_secret = client_secret\n",
    "    \n",
    "    def get_client_credentials(self):\n",
    "        \"\"\" returns a base64 encoded string \"\"\"\n",
    "        client_id = self.client_id\n",
    "        client_secret = self.client_secret\n",
    "        if client_secret == None or client_id == None:\n",
    "            raise Exception(\"You must set client_id and client_secret\")\n",
    "            \n",
    "        client_creds = f\"{client_id}:{client_secret}\"\n",
    "        client_creds_b64 = base64.b64encode(client_creds.encode())        \n",
    "        return client_creds_b64.decode()\n",
    "        \n",
    "    def get_token_headers(self):\n",
    "        client_creds_b64 = self.get_client_credentials()\n",
    "        \n",
    "        return {\n",
    "            \"Authorization\":f\"Basic {client_creds_b64}\"\n",
    "        }\n",
    "    \n",
    "    def get_token_data(self):\n",
    "        return {\n",
    "            \"grant_type\":\"client_credentials\"\n",
    "        }\n",
    "    \n",
    "    \n",
    "    def perform_auth(self):\n",
    "        token_url = self.token_url\n",
    "        token_data = self.get_token_data()\n",
    "        token_headers = self.get_token_headers()\n",
    "        \n",
    "        r = requests.post(token_url, data = token_data, headers = token_headers)\n",
    "\n",
    "        if r.status_code not in range(200,299):\n",
    "            raise Exceptiontion('Could not authenticate client')\n",
    "            #return False\n",
    "            \n",
    "        data = r.json()\n",
    "        now = datetime.datetime.now()\n",
    "        acces_token = data['access_token']\n",
    "        expires_in = data['expires_in'] #seconds\n",
    "        expires = now + datetime.timedelta(seconds = expires_in)\n",
    "        self.access_token = acces_token\n",
    "        self.access_token_expires = expires\n",
    "        self.access_token_did_expire = expires < now\n",
    "        return True\n",
    "    \n",
    "    def get_access_token(self):\n",
    "        token = self.access_token\n",
    "        expires = self.access_token_expires\n",
    "        now = datetime.datetime.now()\n",
    "        if expires < now:\n",
    "            self.perform_auth()\n",
    "            return self.get_access_token()\n",
    "        elif token == None:\n",
    "            self.perform_auth()\n",
    "            return self.get_access_token()\n",
    "        return token\n",
    "    \n",
    "    def get_resource_header(self):\n",
    "        access_token = self.get_access_token()\n",
    "        headers = {\n",
    "            \"Authorization\":f\"Bearer {access_token}\"\n",
    "        }\n",
    "        return headers\n",
    "        \n",
    "    \n",
    "    def get_resource(self,lookup_id,resource_type ='albums',version='v1'):\n",
    "        endpoint = f'https://api.spotify.com/{version}/{resource_type}/{lookup_id}'\n",
    "        headers = self.get_resource_header()\n",
    "        r = requests.get(endpoint,headers=headers)\n",
    "        if r.status_code not in range(200,299):\n",
    "            return {}\n",
    "        return r.json()\n",
    "    \n",
    "    def get_album(self, _id):\n",
    "        return self.get_resource(_id, resource_type = 'albums')\n",
    "    \n",
    "    def get_artist(self, _id):\n",
    "        return self.get_resource(_id, resource_type = 'artists')\n",
    "    \n",
    "    def base_search(self,query_params):\n",
    "        headers = self.get_resource_header()\n",
    "        endpoint = \"https://api.spotify.com/v1/search\"\n",
    "        lookup_url = f\"{endpoint}?{query_params}\"\n",
    "        print(lookup_url)\n",
    "        r = requests.get(lookup_url, headers = headers)\n",
    "        if r.status_code not in range(200,299):\n",
    "            return {}\n",
    "        return r.json()\n",
    "    \n",
    "    def search(self,query = None, search_type='artist'):\n",
    "        query_params = urlencode({\"q\":query,\"type\":search_type.lower()})\n",
    "        if query == None:\n",
    "            raise Exception('A Query es required')\n",
    "        if isinstance(query_params,dict):\n",
    "            query = '%20'.join([f'{k}:{v}' for k,v in query.items()])\n",
    "        query_params = urlencode({'q':query,'type':search_type.lower()})   \n",
    "        return self.base_search(query_params)"
   ]
  },
  {
   "cell_type": "code",
   "execution_count": 15,
   "metadata": {},
   "outputs": [],
   "source": [
    "spotify = SpotifyAPI(client_id,client_secret)"
   ]
  },
  {
   "cell_type": "code",
   "execution_count": 19,
   "metadata": {},
   "outputs": [
    {
     "name": "stdout",
     "output_type": "stream",
     "text": [
      "https://api.spotify.com/v1/search?q=%7B%27track%27%3A+%27A+Lannister+always+pays+his+debts%27%2C+%27artist%27%3A+%27Ramin%27%7D&type=track\n"
     ]
    },
    {
     "data": {
      "text/plain": [
       "{'tracks': {'href': 'https://api.spotify.com/v1/search?query=%7B%27track%27%3A+%27A+Lannister+always+pays+his+debts%27%2C+%27artist%27%3A+%27Ramin%27%7D&type=track&offset=0&limit=20',\n",
       "  'items': [],\n",
       "  'limit': 20,\n",
       "  'next': None,\n",
       "  'offset': 0,\n",
       "  'previous': None,\n",
       "  'total': 0}}"
      ]
     },
     "execution_count": 19,
     "metadata": {},
     "output_type": "execute_result"
    }
   ],
   "source": [
    "spotify.search({'track':'A Lannister always pays his debts','artist':'Ramin'}, search_type='track')"
   ]
  },
  {
   "cell_type": "code",
   "execution_count": 18,
   "metadata": {},
   "outputs": [
    {
     "data": {
      "text/plain": [
       "{'external_urls': {'spotify': 'https://open.spotify.com/artist/1hCkSJcXREhrodeIHQdav8'},\n",
       " 'followers': {'href': None, 'total': 443795},\n",
       " 'genres': ['german soundtrack',\n",
       "  'scorecore',\n",
       "  'soundtrack',\n",
       "  'video game music'],\n",
       " 'href': 'https://api.spotify.com/v1/artists/1hCkSJcXREhrodeIHQdav8',\n",
       " 'id': '1hCkSJcXREhrodeIHQdav8',\n",
       " 'images': [{'height': 640,\n",
       "   'url': 'https://i.scdn.co/image/3192cec3d51144c7a061848927f89983835c5480',\n",
       "   'width': 640},\n",
       "  {'height': 320,\n",
       "   'url': 'https://i.scdn.co/image/d33c97f0483a37ecf2d8309f99b1abaa1e499fd9',\n",
       "   'width': 320},\n",
       "  {'height': 160,\n",
       "   'url': 'https://i.scdn.co/image/553f6b2aa9cb60ac1353f8efbd9edf3542332e8f',\n",
       "   'width': 160}],\n",
       " 'name': 'Ramin Djawadi',\n",
       " 'popularity': 75,\n",
       " 'type': 'artist',\n",
       " 'uri': 'spotify:artist:1hCkSJcXREhrodeIHQdav8'}"
      ]
     },
     "execution_count": 18,
     "metadata": {},
     "output_type": "execute_result"
    }
   ],
   "source": [
    "spotify.get_artist('1hCkSJcXREhrodeIHQdav8')"
   ]
  },
  {
   "cell_type": "code",
   "execution_count": null,
   "metadata": {},
   "outputs": [],
   "source": [
    "spotify.get_album('41zMFsCjcGenYKVJYUXU2n')"
   ]
  },
  {
   "cell_type": "code",
   "execution_count": null,
   "metadata": {},
   "outputs": [],
   "source": []
  },
  {
   "cell_type": "code",
   "execution_count": null,
   "metadata": {},
   "outputs": [],
   "source": []
  },
  {
   "cell_type": "code",
   "execution_count": null,
   "metadata": {},
   "outputs": [],
   "source": []
  }
 ],
 "metadata": {
  "kernelspec": {
   "display_name": "Python 3",
   "language": "python",
   "name": "python3"
  },
  "language_info": {
   "codemirror_mode": {
    "name": "ipython",
    "version": 3
   },
   "file_extension": ".py",
   "mimetype": "text/x-python",
   "name": "python",
   "nbconvert_exporter": "python",
   "pygments_lexer": "ipython3",
   "version": "3.7.6"
  },
  "toc": {
   "base_numbering": 1,
   "nav_menu": {},
   "number_sections": true,
   "sideBar": true,
   "skip_h1_title": false,
   "title_cell": "Table of Contents",
   "title_sidebar": "Contents",
   "toc_cell": false,
   "toc_position": {},
   "toc_section_display": true,
   "toc_window_display": false
  }
 },
 "nbformat": 4,
 "nbformat_minor": 4
}
