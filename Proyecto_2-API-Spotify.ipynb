{
 "cells": [
  {
   "cell_type": "markdown",
   "metadata": {},
   "source": [
    "# Proyecto 2 Ironhack. \n",
    "Analisis de Lista de Reproduccion. Generacion de una lista de reproduccion nueva"
   ]
  },
  {
   "cell_type": "code",
   "execution_count": 2,
   "metadata": {},
   "outputs": [],
   "source": [
    "import base64\n",
    "import requests\n",
    "import datetime\n",
    "from urllib.parse import urlencode\n",
    "import pandas as pd"
   ]
  },
  {
   "cell_type": "markdown",
   "metadata": {},
   "source": [
    "## 1. Coneccion con la API de Spotify"
   ]
  },
  {
   "cell_type": "code",
   "execution_count": 3,
   "metadata": {},
   "outputs": [],
   "source": [
    "# Llaves de acceso para conectarnos a la API de Spotify\n",
    "client_id = '8e5f91c2fc27453eb255a039b42bcb70'\n",
    "client_secret = '09645aff5c8849f2baab977e4cfd1017'\n",
    "user_id = '1279741536'"
   ]
  },
  {
   "cell_type": "code",
   "execution_count": 4,
   "metadata": {},
   "outputs": [],
   "source": [
    "# Generamos esta classe que nos funcionará para que de manera automatica se genere toda la solicitud de acceso a la API\n",
    "\n",
    "class SpotifyAPI(object):\n",
    "    access_token = None\n",
    "    access_token_expires = datetime.datetime.now()\n",
    "    client_id = None\n",
    "    client_secret = None\n",
    "    access_token_did_expire = True\n",
    "    token_url = 'https://accounts.spotify.com/api/token'\n",
    "    \n",
    "    def __init__(self, client_id, client_secret, *args, **kwargs):\n",
    "        super().__init__(*args,**kwargs)\n",
    "        self.client_id = client_id\n",
    "        self.client_secret = client_secret\n",
    "    \n",
    "    # Aqui se crean las credenciales en base 64 para poder acceder a la API\n",
    "    def get_client_credentials(self):\n",
    "        \"\"\" returns a base64 encoded string \"\"\"\n",
    "        client_id = self.client_id\n",
    "        client_secret = self.client_secret\n",
    "        if client_secret == None or client_id == None:\n",
    "            raise Exception(\"You must set client_id and client_secret\")\n",
    "            \n",
    "        client_creds = f\"{client_id}:{client_secret}\"\n",
    "        client_creds_b64 = base64.b64encode(client_creds.encode())        \n",
    "        return client_creds_b64.decode()\n",
    "    \n",
    "    # Aqui estamos generando los headers de acceso\n",
    "    def get_token_headers(self):\n",
    "        client_creds_b64 = self.get_client_credentials()\n",
    "        \n",
    "        return {\n",
    "            \"Authorization\":f\"Basic {client_creds_b64}\"\n",
    "        }\n",
    "    \n",
    "    def get_token_data(self):\n",
    "        return {\n",
    "            \"grant_type\":\"client_credentials\"\n",
    "        }\n",
    "    \n",
    "    # Aqui nos autentificamos y obtenemos el token de acceso\n",
    "    def perform_auth(self):\n",
    "        token_url = self.token_url\n",
    "        token_data = self.get_token_data()\n",
    "        token_headers = self.get_token_headers()\n",
    "        \n",
    "        r = requests.post(token_url, data = token_data, headers = token_headers)\n",
    "\n",
    "        if r.status_code not in range(200,299):\n",
    "            raise Exceptiontion('Could not authenticate client')\n",
    "        \n",
    "            \n",
    "        data = r.json()\n",
    "        now = datetime.datetime.now()\n",
    "        acces_token = data['access_token']\n",
    "        expires_in = data['expires_in'] #seconds\n",
    "        expires = now + datetime.timedelta(seconds = expires_in)\n",
    "        self.access_token = acces_token\n",
    "        self.access_token_expires = expires\n",
    "        self.access_token_did_expire = expires < now\n",
    "        return True\n",
    "    \n",
    "    # Extraemos el token de acceso\n",
    "    def get_access_token(self):\n",
    "        token = self.access_token\n",
    "        expires = self.access_token_expires\n",
    "        now = datetime.datetime.now()\n",
    "        if expires < now:\n",
    "            self.perform_auth()\n",
    "            return self.get_access_token()\n",
    "        elif token == None:\n",
    "            self.perform_auth()\n",
    "            return self.get_access_token()\n",
    "        return token\n",
    "    \n",
    "    # Aqui son los tokens de para las busquedas\n",
    "    def get_resource_header(self):\n",
    "        access_token = self.get_access_token()\n",
    "        headers = {\n",
    "            \"Authorization\":f\"Bearer {access_token}\"\n",
    "        }\n",
    "        return headers\n",
    "        \n",
    "    # busqueda de listas de reproduccion\n",
    "    def get_user_playlist(self,u_id):\n",
    "        endpoint = f'https://api.spotify.com/v1/users/{user_id}/playlists'\n",
    "        headers = self.get_resource_header()\n",
    "        r = requests.get(endpoint,headers=headers)\n",
    "        if r.status_code not in range(200,299):\n",
    "            return {}\n",
    "        return r.json()\n",
    "    \n",
    "    # Busqueda de las canciones por playlist\n",
    "    def get_song_playlist(self,playlist_id):\n",
    "        endpoint = f'https://api.spotify.com/v1/playlists/{playlist_id}/tracks'\n",
    "        headers = self.get_resource_header()\n",
    "        r = requests.get(endpoint,headers=headers)\n",
    "        if r.status_code not in range(200,299):\n",
    "            return {}\n",
    "        return r.json()\n",
    "    "
   ]
  },
  {
   "cell_type": "code",
   "execution_count": 5,
   "metadata": {},
   "outputs": [],
   "source": [
    "# Llamamos a la funcion y le asignamos nuestros client ID y Client Secret\n",
    "spotify = SpotifyAPI(client_id,client_secret)"
   ]
  },
  {
   "cell_type": "code",
   "execution_count": 6,
   "metadata": {},
   "outputs": [
    {
     "data": {
      "text/plain": [
       "True"
      ]
     },
     "execution_count": 6,
     "metadata": {},
     "output_type": "execute_result"
    }
   ],
   "source": [
    "# Nos indica si fue realizada la coneccion con la API\n",
    "spotify.perform_auth()"
   ]
  },
  {
   "cell_type": "code",
   "execution_count": 7,
   "metadata": {},
   "outputs": [
    {
     "data": {
      "text/plain": [
       "'BQDoz5in3EchOicD8NszaeOVTmCXeLLJO1MGcdcbwD635GjID13KFhnlRAl8wHCbfoxFBKEf8t-SS27gZzo'"
      ]
     },
     "execution_count": 7,
     "metadata": {},
     "output_type": "execute_result"
    }
   ],
   "source": [
    "# Obtenemos el access_token que nos servirá para las consultas nescesarias. Por eso lo guardamos en una variable y que sea mas\n",
    "# sencillo llamarlo posteriormente.\n",
    "access_token = spotify.access_token\n",
    "access_token"
   ]
  },
  {
   "cell_type": "code",
   "execution_count": 8,
   "metadata": {},
   "outputs": [
    {
     "data": {
      "text/html": [
       "<div>\n",
       "<style scoped>\n",
       "    .dataframe tbody tr th:only-of-type {\n",
       "        vertical-align: middle;\n",
       "    }\n",
       "\n",
       "    .dataframe tbody tr th {\n",
       "        vertical-align: top;\n",
       "    }\n",
       "\n",
       "    .dataframe thead th {\n",
       "        text-align: right;\n",
       "    }\n",
       "</style>\n",
       "<table border=\"1\" class=\"dataframe\">\n",
       "  <thead>\n",
       "    <tr style=\"text-align: right;\">\n",
       "      <th></th>\n",
       "      <th>name</th>\n",
       "      <th>id</th>\n",
       "      <th>tracks</th>\n",
       "    </tr>\n",
       "  </thead>\n",
       "  <tbody>\n",
       "    <tr>\n",
       "      <th>0</th>\n",
       "      <td>Mis pistas en Shazam</td>\n",
       "      <td>4cneXKJlVKFLKAYuwtk57I</td>\n",
       "      <td>{'href': 'https://api.spotify.com/v1/playlists...</td>\n",
       "    </tr>\n",
       "    <tr>\n",
       "      <th>1</th>\n",
       "      <td>Dubstep 2020​​   ‍</td>\n",
       "      <td>5wNRJwSnBImUuZXJW1TiAj</td>\n",
       "      <td>{'href': 'https://api.spotify.com/v1/playlists...</td>\n",
       "    </tr>\n",
       "    <tr>\n",
       "      <th>2</th>\n",
       "      <td>Pure Rock &amp; Roll</td>\n",
       "      <td>37i9dQZF1DWWRktbhJiuqL</td>\n",
       "      <td>{'href': 'https://api.spotify.com/v1/playlists...</td>\n",
       "    </tr>\n",
       "    <tr>\n",
       "      <th>3</th>\n",
       "      <td>Fiesta Indie</td>\n",
       "      <td>37i9dQZF1DWSXAHZTiX76o</td>\n",
       "      <td>{'href': 'https://api.spotify.com/v1/playlists...</td>\n",
       "    </tr>\n",
       "    <tr>\n",
       "      <th>4</th>\n",
       "      <td>Radio Rock</td>\n",
       "      <td>37i9dQZF1DX1te6miphixI</td>\n",
       "      <td>{'href': 'https://api.spotify.com/v1/playlists...</td>\n",
       "    </tr>\n",
       "  </tbody>\n",
       "</table>\n",
       "</div>"
      ],
      "text/plain": [
       "                   name                      id  \\\n",
       "0  Mis pistas en Shazam  4cneXKJlVKFLKAYuwtk57I   \n",
       "1    Dubstep 2020​​   ‍  5wNRJwSnBImUuZXJW1TiAj   \n",
       "2      Pure Rock & Roll  37i9dQZF1DWWRktbhJiuqL   \n",
       "3          Fiesta Indie  37i9dQZF1DWSXAHZTiX76o   \n",
       "4            Radio Rock  37i9dQZF1DX1te6miphixI   \n",
       "\n",
       "                                              tracks  \n",
       "0  {'href': 'https://api.spotify.com/v1/playlists...  \n",
       "1  {'href': 'https://api.spotify.com/v1/playlists...  \n",
       "2  {'href': 'https://api.spotify.com/v1/playlists...  \n",
       "3  {'href': 'https://api.spotify.com/v1/playlists...  \n",
       "4  {'href': 'https://api.spotify.com/v1/playlists...  "
      ]
     },
     "execution_count": 8,
     "metadata": {},
     "output_type": "execute_result"
    }
   ],
   "source": [
    "playlist_rikrdinii = spotify.get_user_playlist(user_id)\n",
    "columns = ['name','id','tracks']\n",
    "pl_rikrdinii = pd.DataFrame(playlist_rikrdinii['items'],columns=columns)\n",
    "pl_rikrdinii.head()\n"
   ]
  },
  {
   "cell_type": "code",
   "execution_count": 9,
   "metadata": {},
   "outputs": [
    {
     "data": {
      "text/plain": [
       "['4cneXKJlVKFLKAYuwtk57I',\n",
       " '5wNRJwSnBImUuZXJW1TiAj',\n",
       " '37i9dQZF1DWWRktbhJiuqL',\n",
       " '37i9dQZF1DWSXAHZTiX76o',\n",
       " '37i9dQZF1DX1te6miphixI',\n",
       " '1Yw7Hve6LoD46LlvfGI29T',\n",
       " '37i9dQZF1DWSlJG7YPUBHF',\n",
       " '4Za3xdOwf1rgsEuEgmgJbe',\n",
       " '1Hh3HB9DCsUBI65xAq6CUG',\n",
       " '7nvh5grWo61NRk9ex0BucP',\n",
       " '6ywZrlkvzUHogLtjnZhRIx',\n",
       " '2O7wV2QZi7QYpQYsY38iqQ',\n",
       " '32w4C3XmxGrM611CH1pFXa',\n",
       " '2meewqSF7t6JHbAekoiFKa',\n",
       " '1An8Rp0cw23GjbFRNGY1O4',\n",
       " '6i3CtW5xaaz65jWx5iq82D',\n",
       " '1rOMBNE1pK5bFlyQwZjLQc',\n",
       " '7M3zmWRA291rxcI1vw47DT',\n",
       " '2noClX2t7SGvOkzZoAafbw',\n",
       " '4fYXQuQYW3auAVFrE8NTnz']"
      ]
     },
     "execution_count": 9,
     "metadata": {},
     "output_type": "execute_result"
    }
   ],
   "source": [
    "id_playlist = [playlist_rikrdinii['items'][i]['id'] for i in range(len(playlist_rikrdinii['items']))]\n",
    "id_playlist"
   ]
  },
  {
   "cell_type": "code",
   "execution_count": 10,
   "metadata": {},
   "outputs": [
    {
     "data": {
      "text/plain": [
       "7"
      ]
     },
     "execution_count": 10,
     "metadata": {},
     "output_type": "execute_result"
    }
   ],
   "source": [
    "lista_1 = spotify.get_song_playlist('4cneXKJlVKFLKAYuwtk57I')\n",
    "len(lista_1)"
   ]
  },
  {
   "cell_type": "code",
   "execution_count": 43,
   "metadata": {},
   "outputs": [
    {
     "data": {
      "text/plain": [
       "[['7gHs73wELdeycvS48JfIos', 'Faded'],\n",
       " ['5khPVYWIdAE0kSTqekYIwB', 'Blah Blah Blah'],\n",
       " ['3JOVTQ5h8HGFnDdp4VT3MP', 'Mad World (Feat. Michael Andrews)'],\n",
       " ['3JOVTQ5h8HGFnDdp4VT3MP', 'Mad World (Feat. Michael Andrews)'],\n",
       " ['1Ob57NqUydp5cC3FCNV4Gy', 'I Feel You - 2006 Remaster']]"
      ]
     },
     "execution_count": 43,
     "metadata": {},
     "output_type": "execute_result"
    }
   ],
   "source": [
    "#lista_1['items'][0]['track']['name']\n",
    "canciones = []\n",
    "for i in range(len(lista_1['items'])):\n",
    "    id_cancion = lista_1['items'][i]['track']['id']\n",
    "    nombre_cancion = lista_1['items'][i]['track']['name']\n",
    "    canciones.append([id_cancion,nombre_cancion])\n",
    "    \n",
    "canciones\n"
   ]
  },
  {
   "cell_type": "code",
   "execution_count": null,
   "metadata": {},
   "outputs": [],
   "source": []
  },
  {
   "cell_type": "code",
   "execution_count": null,
   "metadata": {},
   "outputs": [],
   "source": []
  },
  {
   "cell_type": "code",
   "execution_count": null,
   "metadata": {},
   "outputs": [],
   "source": []
  },
  {
   "cell_type": "code",
   "execution_count": null,
   "metadata": {},
   "outputs": [],
   "source": []
  },
  {
   "cell_type": "markdown",
   "metadata": {},
   "source": [
    "## 2. Busqueda y descarga de la informacion de las listas de reproduccion"
   ]
  },
  {
   "cell_type": "code",
   "execution_count": null,
   "metadata": {},
   "outputs": [],
   "source": []
  },
  {
   "cell_type": "code",
   "execution_count": 9,
   "metadata": {},
   "outputs": [],
   "source": [
    "# Documentacion para las Playlist: \n",
    "# https://developer.spotify.com/documentation/web-api/reference/playlists/get-a-list-of-current-users-playlists/\n",
    "\n",
    "# Maximo se pueden obtener 50 listas de reproduccion\n",
    "# https://api.spotify.com/v1/me/playlists\" -H \"Authorization: Bearer {your access token} --> Ejemplo para extraer las listas\n",
    "# Tres Llamadas Get para descargar la data "
   ]
  },
  {
   "cell_type": "code",
   "execution_count": 10,
   "metadata": {},
   "outputs": [],
   "source": [
    "# Documentacion Obtencion de info de las listas de reproduccion:\n",
    "# https://developer.spotify.com/documentation/web-api/reference/tracks/get-several-audio-features/"
   ]
  },
  {
   "cell_type": "markdown",
   "metadata": {},
   "source": [
    "## 3. Analisis de las listas de reproduccion"
   ]
  },
  {
   "cell_type": "code",
   "execution_count": null,
   "metadata": {},
   "outputs": [],
   "source": []
  },
  {
   "cell_type": "markdown",
   "metadata": {},
   "source": [
    "## 4. Generacion de las nuevas listas de reproduccion con canciones que tengan caracteristicas similares a las de las listas de reproduccion generadas."
   ]
  },
  {
   "cell_type": "code",
   "execution_count": 11,
   "metadata": {},
   "outputs": [],
   "source": [
    "# un metodo post para subir la lista de reproduccion"
   ]
  },
  {
   "cell_type": "markdown",
   "metadata": {},
   "source": [
    "## 5. BONUS: Scrapear lista de reproduccion de wikipedia de Luke Cage y generar la lista de reproduccion pertinente"
   ]
  },
  {
   "cell_type": "code",
   "execution_count": null,
   "metadata": {},
   "outputs": [],
   "source": []
  }
 ],
 "metadata": {
  "kernelspec": {
   "display_name": "Python 3",
   "language": "python",
   "name": "python3"
  },
  "language_info": {
   "codemirror_mode": {
    "name": "ipython",
    "version": 3
   },
   "file_extension": ".py",
   "mimetype": "text/x-python",
   "name": "python",
   "nbconvert_exporter": "python",
   "pygments_lexer": "ipython3",
   "version": "3.8.5"
  },
  "toc": {
   "base_numbering": 1,
   "nav_menu": {},
   "number_sections": true,
   "sideBar": true,
   "skip_h1_title": false,
   "title_cell": "Table of Contents",
   "title_sidebar": "Contents",
   "toc_cell": false,
   "toc_position": {},
   "toc_section_display": true,
   "toc_window_display": false
  }
 },
 "nbformat": 4,
 "nbformat_minor": 4
}
