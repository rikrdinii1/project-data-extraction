{
 "cells": [
  {
   "cell_type": "markdown",
   "metadata": {},
   "source": [
    "# Proyecto 2 Ironhack. \n",
    "Analisis de Lista de Reproduccion. Generacion de una lista de reproduccion nueva"
   ]
  },
  {
   "cell_type": "code",
   "execution_count": 1,
   "metadata": {},
   "outputs": [],
   "source": [
    "import pandas as pd\n",
    "import requests\n",
    "import base64"
   ]
  },
  {
   "cell_type": "markdown",
   "metadata": {},
   "source": [
    "## 1. Coneccion con la API de Spotify"
   ]
  },
  {
   "cell_type": "code",
   "execution_count": 5,
   "metadata": {},
   "outputs": [
    {
     "data": {
      "text/plain": [
       "{'access_token': 'BQBZzmF4QRv2oKKkD995H6k-vue0DRLpxZ7Dpk47o4N3JoSShWvmQgAH0vmCsUIPdnN8UXV0a5LMM9RBK84',\n",
       " 'token_type': 'Bearer',\n",
       " 'expires_in': 3600,\n",
       " 'scope': ''}"
      ]
     },
     "execution_count": 5,
     "metadata": {},
     "output_type": "execute_result"
    }
   ],
   "source": [
    "# Llaves de acceso para conectarnos a la API de Spotify\n",
    "client_id = '2fcf86918d5d434c90fe82b1294d12b0'\n",
    "client_secret = 'd7fa0a4a43fb4fff9cc3bce1940ff876'\n",
    "\n",
    "# Encriptamos en base 64 las claves\n",
    "client_credentials = f'{client_id}:{client_secret}'\n",
    "client_credentials_base64 = base64.b64encode(client_credentials.encode())\n",
    "    \n",
    "token_url = 'https://accounts.spotify.com/api/token'\n",
    "method = 'POST'\n",
    "\n",
    "token_data = {\n",
    "    'grant_type':'client_credentials'\n",
    "}\n",
    "token_header = {\n",
    "    'Authorization':f'Basic {client_credentials_base64.decode()}'\n",
    "}\n",
    "\n",
    "# Obtenemos el acceso.\n",
    "resultado = requests.post(token_url,data = token_data, headers = token_header)\n",
    "token_response = resultado.json()\n",
    "token_response"
   ]
  },
  {
   "cell_type": "markdown",
   "metadata": {},
   "source": [
    "## 2. Busqueda y descarga de la informacion de las listas de reproduccion"
   ]
  },
  {
   "cell_type": "code",
   "execution_count": null,
   "metadata": {},
   "outputs": [],
   "source": [
    "# Documentacion para las Playlist\n",
    "url_playlist = 'https://api.spotify.com/v1/me/playlists'\n",
    "method_playlist = 'GET'\n",
    "\n",
    "# Maximo se pueden obtener 50 listas de reproduccion\n",
    "# https://api.spotify.com/v1/me/playlists\" -H \"Authorization: Bearer {your access token} --> Ejemplo para extraer las listas\n"
   ]
  },
  {
   "cell_type": "markdown",
   "metadata": {},
   "source": [
    "## 3. Analisis de las listas de reproduccion"
   ]
  },
  {
   "cell_type": "code",
   "execution_count": null,
   "metadata": {},
   "outputs": [],
   "source": []
  },
  {
   "cell_type": "markdown",
   "metadata": {},
   "source": [
    "## 4. Generacion de las nuevas listas de reproduccion con canciones que tengan caracteristicas similares a las de las listas de reproduccion generadas."
   ]
  },
  {
   "cell_type": "code",
   "execution_count": null,
   "metadata": {},
   "outputs": [],
   "source": []
  },
  {
   "cell_type": "markdown",
   "metadata": {},
   "source": [
    "## 5. BONUS: Scrapear lista de reproduccion de wikipedia de Luke Cage y generar la lista de reproduccion pertinente"
   ]
  },
  {
   "cell_type": "code",
   "execution_count": null,
   "metadata": {},
   "outputs": [],
   "source": []
  }
 ],
 "metadata": {
  "kernelspec": {
   "display_name": "Python 3",
   "language": "python",
   "name": "python3"
  },
  "language_info": {
   "codemirror_mode": {
    "name": "ipython",
    "version": 3
   },
   "file_extension": ".py",
   "mimetype": "text/x-python",
   "name": "python",
   "nbconvert_exporter": "python",
   "pygments_lexer": "ipython3",
   "version": "3.8.5"
  }
 },
 "nbformat": 4,
 "nbformat_minor": 4
}
