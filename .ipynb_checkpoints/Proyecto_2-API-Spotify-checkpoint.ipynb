{
 "cells": [
  {
   "cell_type": "markdown",
   "metadata": {},
   "source": [
    "# Proyecto 2 Ironhack. \n",
    "Analisis de Lista de Reproduccion. Generacion de una lista de reproduccion nueva"
   ]
  },
  {
   "cell_type": "code",
   "execution_count": 14,
   "metadata": {},
   "outputs": [],
   "source": [
    "import pandas as pd\n",
    "import requests\n",
    "import base64\n",
    "import datetime"
   ]
  },
  {
   "cell_type": "markdown",
   "metadata": {},
   "source": [
    "## 1. Coneccion con la API de Spotify"
   ]
  },
  {
   "cell_type": "code",
   "execution_count": 20,
   "metadata": {},
   "outputs": [],
   "source": [
    "# Llaves de acceso para conectarnos a la API de Spotify\n",
    "client_id = '2fcf86918d5d434c90fe82b1294d12b0'\n",
    "client_secret = 'd7fa0a4a43fb4fff9cc3bce1940ff876'\n",
    "\n",
    "# Encriptamos en base 64 las claves\n",
    "client_credentials = f'{client_id}:{client_secret}'\n",
    "client_credentials_base64 = base64.b64encode(client_credentials.encode())\n",
    "    \n",
    "token_url = 'https://accounts.spotify.com/api/token'\n",
    "method = 'POST'\n",
    "\n",
    "token_data = {\n",
    "    'grant_type':'client_credentials'\n",
    "}\n",
    "token_header = {\n",
    "    'Authorization':f'Basic {client_credentials_base64.decode()}'\n",
    "}\n",
    "\n",
    "# Obtenemos el acceso.\n",
    "resultado = requests.post(token_url,data = token_data, headers = token_header)\n",
    "token_response = resultado.json()"
   ]
  },
  {
   "cell_type": "markdown",
   "metadata": {},
   "source": [
    "## 2. Busqueda y descarga de la informacion de las listas de reproduccion"
   ]
  },
  {
   "cell_type": "code",
   "execution_count": 23,
   "metadata": {},
   "outputs": [
    {
     "ename": "TypeError",
     "evalue": "'Response' object is not subscriptable",
     "output_type": "error",
     "traceback": [
      "\u001b[0;31m---------------------------------------------------------------------------\u001b[0m",
      "\u001b[0;31mTypeError\u001b[0m                                 Traceback (most recent call last)",
      "\u001b[0;32m<ipython-input-23-c1d5dc463e68>\u001b[0m in \u001b[0;36m<module>\u001b[0;34m\u001b[0m\n\u001b[1;32m      7\u001b[0m \u001b[0;31m# Tres Llamadas Get para descargar la data\u001b[0m\u001b[0;34m\u001b[0m\u001b[0;34m\u001b[0m\u001b[0;34m\u001b[0m\u001b[0m\n\u001b[1;32m      8\u001b[0m \u001b[0;34m\u001b[0m\u001b[0m\n\u001b[0;32m----> 9\u001b[0;31m \u001b[0maccess_token\u001b[0m \u001b[0;34m=\u001b[0m \u001b[0mresultado\u001b[0m\u001b[0;34m[\u001b[0m\u001b[0;34m'access_token'\u001b[0m\u001b[0;34m]\u001b[0m\u001b[0;34m\u001b[0m\u001b[0;34m\u001b[0m\u001b[0m\n\u001b[0m\u001b[1;32m     10\u001b[0m header = {\n\u001b[1;32m     11\u001b[0m     \u001b[0;34m'Authorization'\u001b[0m\u001b[0;34m:\u001b[0m\u001b[0;34mf'Bearer {access_token}'\u001b[0m\u001b[0;34m\u001b[0m\u001b[0;34m\u001b[0m\u001b[0m\n",
      "\u001b[0;31mTypeError\u001b[0m: 'Response' object is not subscriptable"
     ]
    }
   ],
   "source": [
    "# Documentacion para las Playlist: \n",
    "# https://developer.spotify.com/documentation/web-api/reference/playlists/get-a-list-of-current-users-playlists/\n",
    "\n",
    "url_playlist = 'https://api.spotify.com/v1/me/playlists'\n",
    "method_playlist = 'GET'\n",
    "\n",
    "# Maximo se pueden obtener 50 listas de reproduccion\n",
    "# https://api.spotify.com/v1/me/playlists\" -H \"Authorization: Bearer {your access token} --> Ejemplo para extraer las listas\n",
    "# Tres Llamadas Get para descargar la data \n",
    "\n",
    "access_token = resultado['access_token']\n",
    "header = {\n",
    "    'Authorization':f'Bearer {access_token}'\n",
    "}\n",
    "\n",
    "r = requests.get(url_playlist,'limit'=20,header)\n",
    "r"
   ]
  },
  {
   "cell_type": "code",
   "execution_count": null,
   "metadata": {},
   "outputs": [],
   "source": [
    "# Documentacion Obtencion de info de las listas de reproduccion:\n",
    "# https://developer.spotify.com/documentation/web-api/reference/tracks/get-several-audio-features/"
   ]
  },
  {
   "cell_type": "markdown",
   "metadata": {},
   "source": [
    "## 3. Analisis de las listas de reproduccion"
   ]
  },
  {
   "cell_type": "code",
   "execution_count": null,
   "metadata": {},
   "outputs": [],
   "source": []
  },
  {
   "cell_type": "markdown",
   "metadata": {},
   "source": [
    "## 4. Generacion de las nuevas listas de reproduccion con canciones que tengan caracteristicas similares a las de las listas de reproduccion generadas."
   ]
  },
  {
   "cell_type": "code",
   "execution_count": null,
   "metadata": {},
   "outputs": [],
   "source": [
    "# un metodo post para subir la lista de reproduccion"
   ]
  },
  {
   "cell_type": "markdown",
   "metadata": {},
   "source": [
    "## 5. BONUS: Scrapear lista de reproduccion de wikipedia de Luke Cage y generar la lista de reproduccion pertinente"
   ]
  },
  {
   "cell_type": "code",
   "execution_count": null,
   "metadata": {},
   "outputs": [],
   "source": []
  }
 ],
 "metadata": {
  "kernelspec": {
   "display_name": "Python 3",
   "language": "python",
   "name": "python3"
  },
  "language_info": {
   "codemirror_mode": {
    "name": "ipython",
    "version": 3
   },
   "file_extension": ".py",
   "mimetype": "text/x-python",
   "name": "python",
   "nbconvert_exporter": "python",
   "pygments_lexer": "ipython3",
   "version": "3.8.5"
  }
 },
 "nbformat": 4,
 "nbformat_minor": 4
}
