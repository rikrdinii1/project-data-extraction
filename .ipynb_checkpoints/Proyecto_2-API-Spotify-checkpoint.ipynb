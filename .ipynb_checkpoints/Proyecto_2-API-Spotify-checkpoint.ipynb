{
 "cells": [
  {
   "cell_type": "markdown",
   "metadata": {},
   "source": [
    "# Proyecto 2 Ironhack. \n",
    "Analisis de Lista de Reproduccion. Generacion de una lista de reproduccion nueva"
   ]
  },
  {
   "cell_type": "code",
   "execution_count": 13,
   "metadata": {},
   "outputs": [],
   "source": [
    "import base64\n",
    "import requests\n",
    "import datetime\n",
    "from urllib.parse import urlencode\n",
    "import pandas as pd\n",
    "import matplotlib\n",
    "%matplotlib inline\n",
    "\n",
    "# Documentacion para las Playlist: \n",
    "# https://developer.spotify.com/documentation/web-api/reference/playlists/get-a-list-of-current-users-playlists/\n",
    "# Documentacion Obtencion de info de las listas de reproduccion:\n",
    "# https://developer.spotify.com/documentation/web-api/reference/tracks/get-several-audio-features/\n",
    "# Documentacion para la info de las canciones:\n",
    "# https://developer.spotify.com/documentation/web-api/reference/tracks/get-audio-features/\n",
    "# Referencia para el login en la API de Spotify:\n",
    "# https://www.youtube.com/watch?v=xdq6Gz33khQ&t=4594s&ab_channel=CodingEntrepreneurs\n",
    "# las funciones agregadas son tomando ideas de aquí.\n",
    "\n",
    "# Tres Llamadas Get para descargar la data "
   ]
  },
  {
   "cell_type": "markdown",
   "metadata": {},
   "source": [
    "## 1. Coneccion con la API de Spotify"
   ]
  },
  {
   "cell_type": "code",
   "execution_count": 14,
   "metadata": {},
   "outputs": [],
   "source": [
    "# Llaves de acceso para conectarnos a la API de Spotify\n",
    "client_id = '8e5f91c2fc27453eb255a039b42bcb70'\n",
    "client_secret = '09645aff5c8849f2baab977e4cfd1017'\n",
    "user_id = '1279741536'"
   ]
  },
  {
   "cell_type": "code",
   "execution_count": 15,
   "metadata": {},
   "outputs": [],
   "source": [
    "# Generamos esta classe que nos funcionará para que de manera automatica se genere toda la solicitud de acceso a la API\n",
    "\n",
    "class SpotifyAPI(object):\n",
    "    access_token = None\n",
    "    access_token_expires = datetime.datetime.now()\n",
    "    client_id = None\n",
    "    client_secret = None\n",
    "    access_token_did_expire = True\n",
    "    token_url = 'https://accounts.spotify.com/api/token'\n",
    "    \n",
    "    def __init__(self, client_id, client_secret, *args, **kwargs):\n",
    "        super().__init__(*args,**kwargs)\n",
    "        self.client_id = client_id\n",
    "        self.client_secret = client_secret\n",
    "    \n",
    "    # Aqui se crean las credenciales en base 64 para poder acceder a la API\n",
    "    def get_client_credentials(self):\n",
    "        \"\"\" returns a base64 encoded string \"\"\"\n",
    "        client_id = self.client_id\n",
    "        client_secret = self.client_secret\n",
    "        if client_secret == None or client_id == None:\n",
    "            raise Exception(\"You must set client_id and client_secret\")\n",
    "            \n",
    "        client_creds = f\"{client_id}:{client_secret}\"\n",
    "        client_creds_b64 = base64.b64encode(client_creds.encode())        \n",
    "        return client_creds_b64.decode()\n",
    "    \n",
    "    # Aqui estamos generando los headers de acceso\n",
    "    def get_token_headers(self):\n",
    "        client_creds_b64 = self.get_client_credentials()\n",
    "        \n",
    "        return {\n",
    "            \"Authorization\":f\"Basic {client_creds_b64}\"\n",
    "        }\n",
    "    \n",
    "    def get_token_data(self):\n",
    "        return {\n",
    "            \"grant_type\":\"client_credentials\"\n",
    "        }\n",
    "    \n",
    "    # Aqui nos autentificamos y obtenemos el token de acceso\n",
    "    def perform_auth(self):\n",
    "        token_url = self.token_url\n",
    "        token_data = self.get_token_data()\n",
    "        token_headers = self.get_token_headers()\n",
    "        \n",
    "        r = requests.post(token_url, data = token_data, headers = token_headers)\n",
    "\n",
    "        if r.status_code not in range(200,299):\n",
    "            raise Exceptiontion('Could not authenticate client')\n",
    "        \n",
    "            \n",
    "        data = r.json()\n",
    "        now = datetime.datetime.now()\n",
    "        acces_token = data['access_token']\n",
    "        expires_in = data['expires_in'] #seconds\n",
    "        expires = now + datetime.timedelta(seconds = expires_in)\n",
    "        self.access_token = acces_token\n",
    "        self.access_token_expires = expires\n",
    "        self.access_token_did_expire = expires < now\n",
    "        return True\n",
    "    \n",
    "    # Extraemos el token de acceso\n",
    "    def get_access_token(self):\n",
    "        token = self.access_token\n",
    "        expires = self.access_token_expires\n",
    "        now = datetime.datetime.now()\n",
    "        if expires < now:\n",
    "            self.perform_auth()\n",
    "            return self.get_access_token()\n",
    "        elif token == None:\n",
    "            self.perform_auth()\n",
    "            return self.get_access_token()\n",
    "        return token\n",
    "    \n",
    "    # Aqui son los headers de para las busquedas\n",
    "    def get_resource_header(self):\n",
    "        access_token = self.get_access_token()\n",
    "        headers = {\n",
    "            \"Authorization\":f\"Bearer {access_token}\"\n",
    "        }\n",
    "        return headers\n",
    "        \n",
    "    # busqueda de listas de reproduccion\n",
    "    def get_user_playlist(self,u_id):\n",
    "        endpoint = f'https://api.spotify.com/v1/users/{user_id}/playlists'\n",
    "        headers = self.get_resource_header()\n",
    "        r = requests.get(endpoint,headers=headers)\n",
    "        if r.status_code not in range(200,299):\n",
    "            return {}\n",
    "        return r.json()\n",
    "    \n",
    "    # Busqueda de las canciones por playlist: nombre, \n",
    "    def get_song_playlist(self,playlist_id):\n",
    "        endpoint = f'https://api.spotify.com/v1/playlists/{playlist_id}/tracks'\n",
    "        headers = self.get_resource_header()\n",
    "        r = requests.get(endpoint,headers=headers)\n",
    "        if r.status_code not in range(200,299):\n",
    "            return {}\n",
    "        return r.json()\n",
    "    \n",
    "    # Busqueda de las caracteristicas de las canciones\n",
    "    def get_audio_features(self,song_id):\n",
    "        endpoint = f'https://api.spotify.com/v1/audio-features/{song_id}'\n",
    "        headers = self.get_resource_header()\n",
    "        r = requests.get(endpoint,headers=headers)\n",
    "        if r.status_code not in range(200,299):\n",
    "            return {}\n",
    "        return r.json()"
   ]
  },
  {
   "cell_type": "code",
   "execution_count": 16,
   "metadata": {},
   "outputs": [],
   "source": [
    "# Llamamos a la funcion y le asignamos nuestros client ID y Client Secret\n",
    "spotify = SpotifyAPI(client_id,client_secret)"
   ]
  },
  {
   "cell_type": "code",
   "execution_count": 17,
   "metadata": {},
   "outputs": [
    {
     "data": {
      "text/plain": [
       "True"
      ]
     },
     "execution_count": 17,
     "metadata": {},
     "output_type": "execute_result"
    }
   ],
   "source": [
    "# Nos indica si fue realizada la coneccion con la API\n",
    "spotify.perform_auth()"
   ]
  },
  {
   "cell_type": "code",
   "execution_count": 18,
   "metadata": {},
   "outputs": [
    {
     "data": {
      "text/plain": [
       "'BQC5PmhhWnvRPeGHINH4jvZgsCnhjwN0MA4ULsGiFGy959R_qfadgnjrJs2af_ujAE2C6H5UEeuHoZiYB0E'"
      ]
     },
     "execution_count": 18,
     "metadata": {},
     "output_type": "execute_result"
    }
   ],
   "source": [
    "# Obtenemos el access_token que nos servirá para las consultas nescesarias. Por eso lo guardamos en una variable y que sea mas\n",
    "# sencillo llamarlo posteriormente.\n",
    "access_token = spotify.access_token\n",
    "access_token"
   ]
  },
  {
   "cell_type": "markdown",
   "metadata": {},
   "source": [
    "## 2. Busqueda y descarga de la informacion de las listas de reproduccion"
   ]
  },
  {
   "cell_type": "markdown",
   "metadata": {},
   "source": [
    "Acousticness: una medida de confianza de 0.0 a 1.0 de si la pista es acústica. 1.0 representa una alta confianza \n",
    "en que la pista es acústica.\n",
    "\n",
    "Danceability: la capacidad de baile describe qué tan adecuada es una pista para bailar en función de una combinación \n",
    "de elementos musicales que incluyen el tempo, la estabilidad del ritmo, la fuerza del ritmo y la regularidad general. \n",
    "Un valor de 0.0 es menos bailable y 1.0 es más bailable.\n",
    "\n",
    "Energy: La energía es una medida de 0.0 a 1.0 y representa una medida perceptiva de intensidad y actividad. \n",
    "Por lo general, las pistas enérgicas se sienten rápidas, ruidosas y ruidosas. Por ejemplo, el death metal \n",
    "tiene mucha energía, mientras que un preludio de Bach tiene una puntuación baja en la escala. \n",
    "Las características de percepción que contribuyen a este atributo incluyen rango dinámico, \n",
    "volumen percibido, timbre, frecuencia de inicio y entropía general.\n",
    "\n",
    "Instrumentalness: predice si una pista no contiene voces. Los sonidos \"Ooh\" y \"aah\" se tratan como instrumentales \n",
    "en este contexto. Las pistas de rap o de palabra hablada son claramente \"vocales\". Cuanto más cercano esté el valor \n",
    "de instrumentalidad a 1.0, mayor será la probabilidad de que la pista no contenga contenido vocal. \n",
    "Los valores superiores a 0,5 están destinados a representar pistas instrumentales, pero la confianza es mayor a medida \n",
    "que el valor se acerca a 1,0.\n",
    "\n",
    "Liveness: detecta la presencia de una audiencia en la grabación. Los valores de vivacidad más altos representan una mayor\n",
    "probabilidad de que la pista se haya interpretado en vivo. \n",
    "Un valor por encima de 0,8 proporciona una gran probabilidad de que la pista esté activa.\n",
    "\n",
    "Loudness: la sonoridad general de una pista en decibelios (dB). Los valores de sonoridad se promedian en toda la pista y \n",
    "son útiles para comparar la sonoridad relativa de las pistas. La sonoridad es la cualidad de un sonido que es el \n",
    "principal correlato psicológico de la fuerza física (amplitud). Los valores típicos oscilan entre -60 y 0 db.\n",
    "\n",
    "Speechiness: el habla detecta la presencia de palabras habladas en una pista. Cuanto más exclusivamente parecida \n",
    "a un discurso sea la grabación (por ejemplo, programa de entrevistas, audiolibro, poesía), más cercano a 1.0 será el \n",
    "valor del atributo. Los valores superiores a 0,66 describen pistas que probablemente estén compuestas en su totalidad \n",
    "por palabras habladas. Los valores entre 0,33 y 0,66 describen pistas que pueden contener tanto música como habla, \n",
    "ya sea en secciones o en capas, incluidos casos como la música rap. \n",
    "Los valores por debajo de 0,33 probablemente representen música y otras pistas que no se parecen al habla.\n",
    "\n",
    "Valence: Medida de 0.0 a 1.0 que describe la positividad musical que transmite una pista. Las pistas con valencia alta \n",
    "suenan más positivas (por ejemplo, feliz, alegre, eufórico), mientras que las pistas con valencia baja suenan más \n",
    "negativas (por ejemplo, triste, deprimido, enojado).\n",
    "\n",
    "Tempo: el tempo total estimado de una pista en tiempos por minuto (BPM). En terminología musical, \n",
    "el tempo es la velocidad o ritmo de una pieza determinada y se deriva directamente de la duración media del tiempo."
   ]
  },
  {
   "cell_type": "code",
   "execution_count": 19,
   "metadata": {},
   "outputs": [],
   "source": [
    "# Funcion General para obtener info de las listas de reproduccion de un usuario, las canciones de dicha lista y\n",
    "# las caracteristicas de dichas canciones. \n",
    "def playlist_data(user_id):\n",
    "    # Obtenemos las listas de reproduccion en mi usuario\n",
    "    playlist = spotify.get_user_playlist(user_id)\n",
    "    columns = ['name','id','tracks']\n",
    "    #df_playlist = pd.DataFrame(playlist['items'],columns=columns)\n",
    "    \n",
    "    # Generamos una lista con los ID de las listas de reproduccion\n",
    "    id_playlist = [playlist['items'][i]['id'] for i in range(len(playlist['items']))]\n",
    "    \n",
    "\n",
    "    # Analizamos una lista de reproduccion mediante su ID\n",
    "    # Obtenemos la info de las canciones en la lista de reproduccion (ID, Nombre, Album y Artista) y lo colocamos todo en un solo df\n",
    "    # Se eliminan aquellas canciones que tengan un \"nulo\" en ID, ya que no nos permitirán extraer la info futura\n",
    "    canciones = []\n",
    "    for a in id_playlist:\n",
    "        lista_1 = spotify.get_song_playlist(a)\n",
    "        for i in range(len(lista_1['items'])):\n",
    "            id_cancion = lista_1['items'][i]['track']['id']\n",
    "            nombre_cancion = lista_1['items'][i]['track']['name']\n",
    "            album =lista_1['items'][i]['track']['album']['name']\n",
    "            artista = lista_1['items'][i]['track']['artists'][0]['name']\n",
    "            \n",
    "            # hacemos una lista de las canciones\n",
    "            canciones.append([id_cancion,nombre_cancion,album,artista])\n",
    "    \n",
    "    # Creamos un df con la info de las canciones\n",
    "    df = pd.DataFrame(canciones,columns =['id','nombre','album','artista'])\n",
    "    # Eliminamos los NA del df\n",
    "    df = df.dropna(axis=0)\n",
    "   \n",
    "    song_features = []\n",
    "    # Obtenemos el listado de id de las canciones para poder buscar su info\n",
    "    canciones_id =[canciones[i][0] for i in range(len(canciones))]\n",
    "    \n",
    "    # Buscamos la info de cada cancion\n",
    "    for i in canciones_id:\n",
    "        features = spotify.get_audio_features(i)\n",
    "        # Caracteristicas de las canciones\n",
    "        danceability = features['danceability'] if 'danceability' in features else None \n",
    "        energy =features['energy'] if 'energy' in features else None \n",
    "        loudness=features['loudness'] if 'loudness' in features else None \n",
    "        speechiness= features['speechiness'] if 'speechiness' in features else None \n",
    "        acousticness=features['acousticness'] if 'acousticness' in features else None \n",
    "        instrumentalness=features['instrumentalness'] if 'instrumentalness' in features else None \n",
    "        liveness=features['liveness'] if 'liveness' in features else None \n",
    "        valence=features['valence'] if 'valence' in features else None \n",
    "        tempo=features['tempo'] if 'tempo' in features else None \n",
    "        id_ = features['id'] if 'id' in features else None \n",
    "        \n",
    "        # Creamos una lista con la info por cada cancion\n",
    "        song_features.append([danceability,energy,loudness,speechiness,acousticness,instrumentalness,liveness,valence,tempo,id_])\n",
    "    \n",
    "    # Creamos el df de las caracteristicas de las canciones\n",
    "    columns =['danceability','energy','loudness','speechiness','acousticness','instrumentalness','liveness','valence','tempo','id']\n",
    "    df_features = pd.DataFrame(song_features,columns = columns)\n",
    "    df_features = df_features.dropna(axis=0)\n",
    "\n",
    "    # Unimos el df de las caracteristicas de las canciones con el de la info de las canciones, mediante el ID de la canción\n",
    "    data = pd.merge(df,df_features,on='id')\n",
    "    return data"
   ]
  },
  {
   "cell_type": "code",
   "execution_count": 20,
   "metadata": {},
   "outputs": [],
   "source": [
    "#data = playlist_data(user_id)\n",
    "#data.set_index(data['id'])\n",
    "#data"
   ]
  },
  {
   "cell_type": "code",
   "execution_count": 21,
   "metadata": {},
   "outputs": [],
   "source": [
    "# Función modificada para solo obtener la lista de reproduccion que corresponda con una seleccion, en este caso que sea mia y de mi \n",
    "# pareja para analizar los gustos musicales de cada quien. \n",
    "# se agrega funcion logica para identificarlas por el nombre\n",
    "# Al final, se debe de obtener el df de cada quien. \n",
    "\n",
    "# Generamos una lista con los ID de las listas de reproduccion\n",
    "def identificador_playlist(user_id):\n",
    "    playlist = spotify.get_user_playlist(user_id)\n",
    "\n",
    "    other_playlist= []\n",
    "\n",
    "    for i in range(len(playlist['items'])):\n",
    "        if playlist['items'][i]['name'].startswith('Brendiux'):\n",
    "            brendiux_playlist = playlist['items'][i]['id']\n",
    "        elif playlist['items'][i]['name'].startswith('Rikrdinii'):\n",
    "            rikrdinii_playlist = playlist['items'][i]['id']\n",
    "        else:\n",
    "            other_playlist.append(playlist['items'][i]['id'])\n",
    "    \n",
    "    r = input('¿Que Lista de reproduccion desea Analizar?: 1. Ricardo / 2.Brenda / 3. Otras Listas.  ')\n",
    "    if r.lower() == 'ricardo':\n",
    "        return rikrdinii_playlist\n",
    "    elif r.lower() == 'brenda':\n",
    "        return brendiux_playlist\n",
    "    #elif r.lower() == 'otras' or r.lower() == 'otras listas':\n",
    "    else:\n",
    "        return other_playlist"
   ]
  },
  {
   "cell_type": "markdown",
   "metadata": {
    "heading_collapsed": true
   },
   "source": [
    "## 3. Analisis de las listas de reproduccion"
   ]
  },
  {
   "cell_type": "code",
   "execution_count": 22,
   "metadata": {
    "hidden": true
   },
   "outputs": [],
   "source": [
    "# Analizamos una lista de reproduccion mediante su ID\n",
    "# Obtenemos la info de las canciones en la lista de reproduccion (ID, Nombre, Album y Artista) y lo colocamos todo en un solo df\n",
    "# Se eliminan aquellas canciones que tengan un \"nulo\" en ID, ya que no nos permitirán extraer la info futura\n",
    "def playlist_analysis(id_playlist):\n",
    "    \n",
    "    canciones = []\n",
    "    \n",
    "    try:\n",
    "        for a in id_playlist:\n",
    "            lista_1 = spotify.get_song_playlist(a)\n",
    "            for i in range(len(lista_1['items'])):\n",
    "                id_cancion = lista_1['items'][i]['track']['id']\n",
    "                nombre_cancion = lista_1['items'][i]['track']['name']\n",
    "                album =lista_1['items'][i]['track']['album']['name']\n",
    "                artista = lista_1['items'][i]['track']['artists'][0]['name']\n",
    "\n",
    "                # hacemos una lista de las canciones\n",
    "                canciones.append([id_cancion,nombre_cancion,album,artista])\n",
    "    except:\n",
    "        lista_1 = spotify.get_song_playlist(id_playlist)\n",
    "        for i in range(len(lista_1['items'])):\n",
    "            id_cancion = lista_1['items'][i]['track']['id']\n",
    "            nombre_cancion = lista_1['items'][i]['track']['name']\n",
    "            album =lista_1['items'][i]['track']['album']['name']\n",
    "            artista = lista_1['items'][i]['track']['artists'][0]['name']\n",
    "\n",
    "            # hacemos una lista de las canciones\n",
    "            canciones.append([id_cancion,nombre_cancion,album,artista])\n",
    "\n",
    "    # Creamos un df con la info de las canciones\n",
    "    df = pd.DataFrame(canciones,columns =['id','nombre','album','artista'])\n",
    "    # Eliminamos los NA del df\n",
    "    df = df.dropna(axis=0)\n",
    "   \n",
    "    song_features = []\n",
    "    # Obtenemos el listado de id de las canciones para poder buscar su info\n",
    "    canciones_id =[canciones[i][0] for i in range(len(canciones))]\n",
    "    \n",
    "    # Buscamos la info de cada cancion\n",
    "    for i in canciones_id:\n",
    "        features = spotify.get_audio_features(i)\n",
    "        # Caracteristicas de las canciones\n",
    "        danceability = features['danceability'] if 'danceability' in features else None \n",
    "        energy =features['energy'] if 'energy' in features else None \n",
    "        loudness=features['loudness'] if 'loudness' in features else None \n",
    "        speechiness= features['speechiness'] if 'speechiness' in features else None \n",
    "        acousticness=features['acousticness'] if 'acousticness' in features else None \n",
    "        instrumentalness=features['instrumentalness'] if 'instrumentalness' in features else None \n",
    "        liveness=features['liveness'] if 'liveness' in features else None \n",
    "        valence=features['valence'] if 'valence' in features else None \n",
    "        tempo=features['tempo'] if 'tempo' in features else None \n",
    "        id_ = features['id'] if 'id' in features else None \n",
    "        \n",
    "        # Creamos una lista con la info por cada cancion\n",
    "        song_features.append([danceability,energy,loudness,speechiness,acousticness,instrumentalness,liveness,valence,tempo,id_])\n",
    "    \n",
    "    # Creamos el df de las caracteristicas de las canciones\n",
    "    columns =['danceability','energy','loudness','speechiness','acousticness','instrumentalness','liveness','valence','tempo','id']\n",
    "    df_features = pd.DataFrame(song_features,columns = columns)\n",
    "    df_features = df_features.dropna(axis=0)\n",
    "\n",
    "    # Unimos el df de las caracteristicas de las canciones con el de la info de las canciones, mediante el ID de la canción\n",
    "    data = pd.merge(df,df_features,on='id')\n",
    "    return data"
   ]
  },
  {
   "cell_type": "code",
   "execution_count": 23,
   "metadata": {},
   "outputs": [
    {
     "name": "stdout",
     "output_type": "stream",
     "text": [
      "¿Que Lista de reproduccion desea Analizar?: 1. Ricardo / 2.Brenda / 3. Otras Listas.  ricardo\n"
     ]
    },
    {
     "data": {
      "text/plain": [
       "array([[<matplotlib.axes._subplots.AxesSubplot object at 0x7f02335a8d90>,\n",
       "        <matplotlib.axes._subplots.AxesSubplot object at 0x7f023357d850>,\n",
       "        <matplotlib.axes._subplots.AxesSubplot object at 0x7f0233522ee0>],\n",
       "       [<matplotlib.axes._subplots.AxesSubplot object at 0x7f0233545970>,\n",
       "        <matplotlib.axes._subplots.AxesSubplot object at 0x7f02334f9fa0>,\n",
       "        <matplotlib.axes._subplots.AxesSubplot object at 0x7f023349ca30>],\n",
       "       [<matplotlib.axes._subplots.AxesSubplot object at 0x7f02334a7940>,\n",
       "        <matplotlib.axes._subplots.AxesSubplot object at 0x7f023345a220>,\n",
       "        <matplotlib.axes._subplots.AxesSubplot object at 0x7f023342c370>]],\n",
       "      dtype=object)"
      ]
     },
     "execution_count": 23,
     "metadata": {},
     "output_type": "execute_result"
    },
    {
     "data": {
      "image/png": "[encoded data removed]",
      "text/plain": [
       "<Figure size 432x288 with 9 Axes>"
      ]
     },
     "metadata": {
      "needs_background": "light"
     },
     "output_type": "display_data"
    }
   ],
   "source": [
    "playlist_analysis(identificador_playlist(user_id)).hist()"
   ]
  },
  {
   "cell_type": "markdown",
   "metadata": {
    "heading_collapsed": true
   },
   "source": [
    "## 4. Generacion de las nuevas listas de reproduccion con canciones que tengan caracteristicas similares a las de las listas de reproduccion generadas."
   ]
  },
  {
   "cell_type": "code",
   "execution_count": null,
   "metadata": {},
   "outputs": [],
   "source": []
  },
  {
   "cell_type": "code",
   "execution_count": 12,
   "metadata": {
    "hidden": true
   },
   "outputs": [],
   "source": [
    "# un metodo post para subir la lista de reproduccion"
   ]
  },
  {
   "cell_type": "markdown",
   "metadata": {},
   "source": [
    "## 5. BONUS: Scrapear lista de reproduccion de wikipedia de Luke Cage y generar la lista de reproduccion pertinente"
   ]
  },
  {
   "cell_type": "code",
   "execution_count": null,
   "metadata": {},
   "outputs": [],
   "source": []
  }
 ],
 "metadata": {
  "kernelspec": {
   "display_name": "Python 3",
   "language": "python",
   "name": "python3"
  },
  "language_info": {
   "codemirror_mode": {
    "name": "ipython",
    "version": 3
   },
   "file_extension": ".py",
   "mimetype": "text/x-python",
   "name": "python",
   "nbconvert_exporter": "python",
   "pygments_lexer": "ipython3",
   "version": "3.8.5"
  },
  "toc": {
   "base_numbering": 1,
   "nav_menu": {},
   "number_sections": true,
   "sideBar": true,
   "skip_h1_title": false,
   "title_cell": "Table of Contents",
   "title_sidebar": "Contents",
   "toc_cell": false,
   "toc_position": {},
   "toc_section_display": true,
   "toc_window_display": false
  }
 },
 "nbformat": 4,
 "nbformat_minor": 4
}
